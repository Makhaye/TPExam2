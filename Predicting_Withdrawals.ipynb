{
 "cells": [
  {
   "cell_type": "code",
   "execution_count": 1,
   "id": "333214c8-6efb-4487-96fe-afb64b9ff364",
   "metadata": {},
   "outputs": [
    {
     "name": "stdout",
     "output_type": "stream",
     "text": [
      "   ID           Name  Age  Gender    Country      City Occupation     Salary  \\\n",
      "0   1  Alice Johnson   60    Male  Australia    London     Artist   50792.18   \n",
      "1   2      Chris Lee   44  Female         UK    Sydney     Lawyer  119924.18   \n",
      "2   3       John Doe   28   Other        USA    Berlin     Lawyer   47043.78   \n",
      "3   4  Michael Brown   21    Male        USA  New York     Artist   63998.65   \n",
      "4   5  Alice Johnson   38    Male     Canada  New York   Engineer  100520.53   \n",
      "\n",
      "  Marital Status    Education Level  Years of Experience Employment Status  \n",
      "0         Single    Master's Degree                   22     Self-employed  \n",
      "1       Divorced    Master's Degree                   28        Unemployed  \n",
      "2        Married                PhD                    1        Unemployed  \n",
      "3         Single  Bachelor's Degree                   28     Self-employed  \n",
      "4       Divorced  Bachelor's Degree                   15        Unemployed  \n",
      "Accuracy: 1.0\n",
      "Classification Report:\n",
      "              precision    recall  f1-score   support\n",
      "\n",
      "       False       1.00      1.00      1.00      1316\n",
      "        True       1.00      1.00      1.00       684\n",
      "\n",
      "    accuracy                           1.00      2000\n",
      "   macro avg       1.00      1.00      1.00      2000\n",
      "weighted avg       1.00      1.00      1.00      2000\n",
      "\n"
     ]
    }
   ],
   "source": [
    "import pandas as pd\n",
    "from sklearn.model_selection import train_test_split\n",
    "from sklearn.linear_model import LogisticRegression\n",
    "from sklearn.metrics import accuracy_score, classification_report\n",
    "\n",
    "# Load the dataset\n",
    "data = pd.read_csv('demographic_employment_data.csv')\n",
    "\n",
    "# Display the first few rows of the dataset\n",
    "print(data.head())\n",
    "\n",
    "# Preprocess the data\n",
    "# Convert categorical columns to numerical using one-hot encoding\n",
    "data = pd.get_dummies(data, columns=['Gender', 'Country', 'City', 'Occupation', 'Marital Status', 'Education Level', 'Employment Status'])\n",
    "\n",
    "# Define the feature columns and the target column\n",
    "# Assuming 'Employment Status_Employed' is the target for logistic regression\n",
    "X = data.drop(columns=['ID', 'Name', 'Employment Status_Employed'])\n",
    "y = data['Employment Status_Employed']\n",
    "\n",
    "# Split the data into training and testing sets\n",
    "X_train, X_test, y_train, y_test = train_test_split(X, y, test_size=0.2, random_state=42)\n",
    "\n",
    "# Create and train the logistic regression model\n",
    "model = LogisticRegression(max_iter=1000)\n",
    "model.fit(X_train, y_train)\n",
    "\n",
    "# Make predictions on the test set\n",
    "y_pred = model.predict(X_test)\n",
    "\n",
    "# Evaluate the model\n",
    "accuracy = accuracy_score(y_test, y_pred)\n",
    "report = classification_report(y_test, y_pred)\n",
    "\n",
    "print(f'Accuracy: {accuracy}')\n",
    "print('Classification Report:')\n",
    "print(report)\n"
   ]
  },
  {
   "cell_type": "code",
   "execution_count": 2,
   "id": "db6d98bf-58a2-4dc0-a392-688148b283b5",
   "metadata": {},
   "outputs": [
    {
     "name": "stdout",
     "output_type": "stream",
     "text": [
      "Modified dataset saved as 'demographic_employment_data_12_months.csv'\n"
     ]
    }
   ],
   "source": [
    "import pandas as pd\n",
    "import random\n",
    "\n",
    "# Load the dataset\n",
    "data = pd.read_csv('demographic_employment_data.csv')\n",
    "\n",
    "# Add employment status for 12 months\n",
    "for month in range(1, 13):\n",
    "    data[f'Employment Status Month {month}'] = [random.choice(['Employed', 'Unemployed', 'Self-employed']) for _ in range(len(data))]\n",
    "\n",
    "# Save the modified dataset\n",
    "data.to_csv('demographic_employment_data_12_months.csv', index=False)\n",
    "print(\"Modified dataset saved as 'demographic_employment_data_12_months.csv'\")\n"
   ]
  },
  {
   "cell_type": "code",
   "execution_count": null,
   "id": "9a8a16b7-93ad-496e-a1c5-47102d2369f1",
   "metadata": {},
   "outputs": [],
   "source": []
  }
 ],
 "metadata": {
  "kernelspec": {
   "display_name": "Python 3 (ipykernel)",
   "language": "python",
   "name": "python3"
  },
  "language_info": {
   "codemirror_mode": {
    "name": "ipython",
    "version": 3
   },
   "file_extension": ".py",
   "mimetype": "text/x-python",
   "name": "python",
   "nbconvert_exporter": "python",
   "pygments_lexer": "ipython3",
   "version": "3.12.2"
  }
 },
 "nbformat": 4,
 "nbformat_minor": 5
}
